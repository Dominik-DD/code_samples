{
 "cells": [
  {
   "cell_type": "code",
   "execution_count": 1,
   "id": "welsh-hearts",
   "metadata": {},
   "outputs": [],
   "source": [
    "from bs4 import BeautifulSoup\n",
    "import requests\n",
    "import pandas as pd"
   ]
  },
  {
   "cell_type": "code",
   "execution_count": 6,
   "id": "tight-awareness",
   "metadata": {},
   "outputs": [
    {
     "name": "stdout",
     "output_type": "stream",
     "text": [
      "\n"
     ]
    }
   ],
   "source": [
    "list_cmp_name = []\n",
    "list_ico = []\n",
    "list_city = []\n",
    "list_region = []\n",
    "list_employees = []\n",
    "list_sales = []\n",
    "list_origin = []\n",
    "\n",
    "\n",
    "for i in range(15000,16001): # range was randomly picked...\n",
    "    print(f'current page: {i}')\n",
    "    base_url = f\"https://finstat.sk/databaza-firiem-organizacii?NumberOfEmployeesExact=False&RpvsInsert=False&StateActive=True&StateSuspended=True&StateCanceled=True&Sort=creation-date-desc&page={i}\"\n",
    "    #url with placeholder at the end\n",
    "    \n",
    "    html = requests.get(base_url)\n",
    "    soup = BeautifulSoup(html.text, \"lxml\")\n",
    "    target = soup.tbody #locating table\n",
    "\n",
    "    find = target.find_all('tr') # locating table row\n",
    "\n",
    "\n",
    "    for elem in find:\n",
    "\n",
    "        tds = elem.find_all('td') # locating cells in table\n",
    "        company_name = elem.find('a').text.split(',')[0]\n",
    "        ico = elem.a['href'][1:] # without first elem\n",
    "        city = tds[1].text\n",
    "        region = tds[2].text\n",
    "        employees = tds[3].text[2:].split()[0] # scpraped with tailing zeros, split based on space, and take first elem\n",
    "        sales = tds[4].text[2:].split('€')[0][:-1] # formated without € and tailing space\n",
    "        origin = tds[5].text[2:].split()[0] # scpraped with tailing zeros, split based on space, and take first elem\n",
    "\n",
    "        list_cmp_name.append(company_name)\n",
    "        list_ico.append(ico)\n",
    "        list_city.append(city)\n",
    "        list_region.append(region)\n",
    "        list_employees.append(employees)\n",
    "        list_sales.append(sales)\n",
    "        list_origin.append(origin)\n",
    "        \n",
    "        #print(len(sales))\n",
    "\n",
    "        \n",
    "        \n",
    "\n",
    "\n",
    "\n",
    "\n",
    "columns = {\n",
    "    'Company': list_cmp_name,\n",
    "    'ICO': list_ico,\n",
    "    'City': list_city,\n",
    "    'Region': list_region,\n",
    "    'Employees': list_employees,\n",
    "    'Sales': list_sales,\n",
    "    'Origin': list_origin\n",
    "}\n",
    "\n",
    "df = pd.DataFrame(columns)"
   ]
  },
  {
   "cell_type": "code",
   "execution_count": null,
   "id": "dietary-choir",
   "metadata": {
    "scrolled": true
   },
   "outputs": [],
   "source": [
    "#df.to_csv(\"scrape.csv\", sep=\",\", encoding='utf-16', index=False)"
   ]
  }
 ],
 "metadata": {
  "kernelspec": {
   "display_name": "Python 3",
   "language": "python",
   "name": "python3"
  },
  "language_info": {
   "codemirror_mode": {
    "name": "ipython",
    "version": 3
   },
   "file_extension": ".py",
   "mimetype": "text/x-python",
   "name": "python",
   "nbconvert_exporter": "python",
   "pygments_lexer": "ipython3",
   "version": "3.8.3"
  }
 },
 "nbformat": 4,
 "nbformat_minor": 5
}
